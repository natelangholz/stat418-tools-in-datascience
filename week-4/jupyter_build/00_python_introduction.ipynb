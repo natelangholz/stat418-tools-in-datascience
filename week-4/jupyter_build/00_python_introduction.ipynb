{
 "cells": [
  {
   "cell_type": "markdown",
   "metadata": {},
   "source": [
    "# Web Data Scraping\n",
    "\n",
    "\n",
    "\n",
    "## Acknowledgements\n",
    "\n",
    "These notebooks are adaptations from a 5 session mini course at the University of Colorado. The github repo can be found [here](https://github.com/CU-ITSS/Web-Data-Scraping-S2019) [Spring 2019 ITSS Mini-Course] The course is taught by [Brian C. Keegan, Ph.D.](http://brianckeegan.com/) [Assistant Professor, Department of Information Science](https://www.colorado.edu/cmci/people/information-science/brian-c-keegan). They have been adapted for relevant content and integration with Docker so that we all have the same environment. Professor Keegan suggests using a most recent version of Python (3.7) which is set in the `requirements.txt` file.\n",
    "\n",
    "The Spring ITSS Mini-Course was adapted from a number of sources including [Allison Morgan](https://allisonmorgan.github.io/) for the [2018 Summer Institute for Computational Social Science](https://github.com/allisonmorgan/sicss_boulder), which were in turn derived from [other resources](https://github.com/simonmunzert/web-scraping-with-r-extended-edition) developed by [Simon Munzert](http://simonmunzert.github.io/) and [Chris Bail](http://www.chrisbail.net/). \n",
    "\n",
    "This notebook is adapted from excellent notebooks in Dr. [Cody Buntain](http://cody.bunta.in/)'s seminar on [Social Media and Crisis Informatics](http://cody.bunta.in/teaching/2018_winter_umd_inst728e/) as well as the [PRAW documentation](https://praw.readthedocs.io/en/latest/)."
   ]
  },
  {
   "cell_type": "markdown",
   "metadata": {},
   "source": [
    "## Introduction to Jupyter Notebooks\n",
    "\n",
    "This is an example of a code cell below. You type the code into the cell and run the cell with the \"Run\" button in the toolbar or pressing Shift+Enter."
   ]
  },
  {
   "cell_type": "code",
   "execution_count": 1,
   "metadata": {},
   "outputs": [
    {
     "name": "stdout",
     "output_type": "stream",
     "text": [
      "Nate Langholz\n"
     ]
    }
   ],
   "source": [
    "name = 'Nate Langholz'\n",
    "print(name)"
   ]
  },
  {
   "cell_type": "code",
   "execution_count": 2,
   "metadata": {},
   "outputs": [
    {
     "data": {
      "text/plain": [
       "4"
      ]
     },
     "execution_count": 2,
     "metadata": {},
     "output_type": "execute_result"
    }
   ],
   "source": [
    "2+2"
   ]
  },
  {
   "cell_type": "markdown",
   "metadata": {},
   "source": [
    "## Forms of structured data\n",
    "\n",
    "There are three primary forms of structured data you will encounter on the web: HTML, XML, and JSON.\n",
    "\n",
    "### HTML\n",
    "\n",
    "We can use Python's `requests` library to make a valid HTTP \"get\" request to the Oscars' web server for the 90 Academy Awards which will return the raw HTML. There are more than 144,000 characters in the document!"
   ]
  },
  {
   "cell_type": "code",
   "execution_count": 3,
   "metadata": {},
   "outputs": [
    {
     "data": {
      "text/plain": [
       "159082"
      ]
     },
     "execution_count": 3,
     "metadata": {},
     "output_type": "execute_result"
    }
   ],
   "source": [
    "import requests\n",
    "\n",
    "# Pretend to be a web browser and make a get request of a webpage\n",
    "oscars90_request = requests.get('https://www.oscars.org/oscars/ceremonies/2018')\n",
    "\n",
    "# The .text returns the text from the request\n",
    "oscars90_html = oscars90_request.text\n",
    "\n",
    "# The oscars90_html is a string, we can use the common len function to ask how long the string is (in characters)\n",
    "len(oscars90_html)"
   ]
  },
  {
   "cell_type": "markdown",
   "metadata": {},
   "source": [
    "Let's look at the first thousand characters. Mostly declarations to handle Internet Explorer's notorious refusal to follow standards—stuff you don't need to worry about."
   ]
  },
  {
   "cell_type": "code",
   "execution_count": 4,
   "metadata": {},
   "outputs": [
    {
     "name": "stdout",
     "output_type": "stream",
     "text": [
      "<!DOCTYPE html>\n",
      "  <!--[if IEMobile 7]><html class=\"no-js ie iem7\" lang=\"en\" dir=\"ltr\"><![endif]-->\n",
      "  <!--[if lte IE 6]><html class=\"no-js ie lt-ie9 lt-ie8 lt-ie7\" lang=\"en\" dir=\"ltr\"><![endif]-->\n",
      "  <!--[if (IE 7)&(!IEMobile)]><html class=\"no-js ie lt-ie9 lt-ie8\" lang=\"en\" dir=\"ltr\"><![endif]-->\n",
      "  <!--[if IE 8]><html class=\"no-js ie lt-ie9\" lang=\"en\" dir=\"ltr\"><![endif]-->\n",
      "  <!--[if (gte IE 9)|(gt IEMobile 7)]><html class=\"no-js ie\" lang=\"en\" dir=\"ltr\" prefix=\"og: http://ogp.me/ns# article: http://ogp.me/ns/article# book: http://ogp.me/ns/book# profile: http://ogp.me/ns/profile# video: http://ogp.me/ns/video# product: http://ogp.me/ns/product#\"><![endif]-->\n",
      "  <!--[if !IE]><!--><html class=\"no-js\" lang=\"en\" dir=\"ltr\" prefix=\"og: http://ogp.me/ns# article: http://ogp.me/ns/article# book: http://ogp.me/ns/book# profile: http://ogp.me/ns/profile# video: http://ogp.me/ns/video# product: http://ogp.me/ns/product#\"><!--<![endif]-->\n",
      "<head>\n",
      "  <meta charset=\"utf-8\" /><script type=\"text/javascript\n"
     ]
    }
   ],
   "source": [
    "# The [0:1000] is a slicing notation \n",
    "# It gets the first (position 0 in Python) character until the 1000th character\n",
    "\n",
    "print(oscars90_html[0:1000])"
   ]
  },
  {
   "cell_type": "markdown",
   "metadata": {},
   "source": [
    "Looking at 1,000 lines about a third of the way through the document, we can see some of the structure we found with the \"Inspect\" tool above corresponding to the closing lines of the \"Actor in a Supporting Role\" grouping and the opening lines of the \"Acress in a Leading Role\" grouping."
   ]
  },
  {
   "cell_type": "code",
   "execution_count": 5,
   "metadata": {},
   "outputs": [
    {
     "name": "stdout",
     "output_type": "stream",
     "text": [
      "esc field--type-text-long field--label-hidden ellipsis\"><div class=\"field-items\"><div class=\"field-item even\">Lee Unkrich and Darla K. Anderson</div></div></div>  </div>\n",
      "</div>\n",
      "</div></li>\n",
      "</ul></div>  </div>  \n",
      "  <div class=\"views-field views-field-field-more-highlights\">        <div class=\"field-content\"><a href=\"https://www.oscars.org/oscars/ceremonies/90th-oscar-highlights\" class=\"btn-link\">View More Highlights</a></div>  </div>  \n",
      "  <div class=\"views-field views-field-field-memorable-moments\">    <span class=\"views-label views-label-field-memorable-moments\">Memorable Moments</span>    <div class=\"field-content\"><ul><li><div class=\"field-collection-view clearfix view-mode-full\"><div class=\"entity entity-field-collection-item field-collection-item-field-memorable-moments clearfix\" class=\"entity entity-field-collection-item field-collection-item-field-memorable-moments\">\n",
      "  <div class=\"content\">\n",
      "    <div class=\"field field--name-field-ceremonies-media field--type-image field--label-hidd\n"
     ]
    }
   ],
   "source": [
    "# You can slice any ranges you'd like up, as long as it's not beyond the length of the string\n",
    "# oscars90_html[144588:] would return an error\n",
    "\n",
    "print(oscars90_html[50000:51000])"
   ]
  },
  {
   "cell_type": "markdown",
   "metadata": {},
   "source": [
    "We're not actually going to be slicing the text to get this structured data out, we'll use a wonderful tool call [BeautifulSoup](https://www.crummy.com/software/BeautifulSoup/) to do the heavy lifting for us."
   ]
  },
  {
   "cell_type": "markdown",
   "metadata": {},
   "source": [
    "### XML\n",
    "\n",
    "XML has taken on something of an afterlife as the official data standard for the U.S. Congress. The [House](http://clerk.house.gov/index.aspx) and [Senate](https://www.senate.gov/general/XML.htm) both release information about members, committees, schedules, legislation, and votes in XML. These are immaculately formatted and documented and remarkably up-to-date: the data for members of the 116th Congress are already posted.\n",
    "\n",
    "Use the `requests` library to make a HTTP get request to the House's webserver and get the list of current member data."
   ]
  },
  {
   "cell_type": "code",
   "execution_count": 6,
   "metadata": {},
   "outputs": [],
   "source": [
    "house_raw = requests.get('http://clerk.house.gov/xml/lists/MemberData.xml').text\n",
    "\n",
    "senate_raw = requests.get('https://www.senate.gov/legislative/LIS_MEMBER/cvc_member_data.xml').text"
   ]
  },
  {
   "cell_type": "markdown",
   "metadata": {},
   "source": [
    "This data is still in a string format (`type(house_raw)`), so it's difficult to search and navigate. Let's make our first soup together using [BeautifulSoup](https://www.crummy.com/software/BeautifulSoup/bs4/doc/)."
   ]
  },
  {
   "cell_type": "code",
   "execution_count": 7,
   "metadata": {},
   "outputs": [],
   "source": [
    "# First import the library\n",
    "from bs4 import BeautifulSoup\n",
    "\n",
    "# Then make the soup, specifying the \"lxml\" parser\n",
    "house_soup = BeautifulSoup(house_raw,'lxml')"
   ]
  },
  {
   "cell_type": "markdown",
   "metadata": {},
   "source": [
    "What's so great about this soup-ified string? We now have a suite of new functions and methods that let us navigate the tree. First, let's inspect the different tags/elements in this tree of House member data. This is the full tree of data."
   ]
  },
  {
   "cell_type": "code",
   "execution_count": 8,
   "metadata": {},
   "outputs": [
    {
     "data": {
      "text/plain": [
       "['html',\n",
       " 'body',\n",
       " 'memberdata',\n",
       " 'title-info',\n",
       " 'congress-num',\n",
       " 'congress-text',\n",
       " 'session',\n",
       " 'majority',\n",
       " 'minority',\n",
       " 'clerk',\n",
       " 'weburl',\n",
       " 'members',\n",
       " 'member',\n",
       " 'statedistrict',\n",
       " 'member-info',\n",
       " 'namelist',\n",
       " 'bioguideid',\n",
       " 'lastname',\n",
       " 'firstname',\n",
       " 'middlename',\n",
       " 'sort-name',\n",
       " 'suffix',\n",
       " 'courtesy',\n",
       " 'prior-congress',\n",
       " 'official-name',\n",
       " 'formal-name',\n",
       " 'party',\n",
       " 'caucus',\n",
       " 'state',\n",
       " 'state-fullname',\n",
       " 'district',\n",
       " 'townname',\n",
       " 'office-building',\n",
       " 'office-room',\n",
       " 'office-zip',\n",
       " 'office-zip-suffix',\n",
       " 'phone',\n",
       " 'elected-date',\n",
       " 'sworn-date',\n",
       " 'committee-assignments',\n",
       " 'committee',\n",
       " 'subcommittee',\n",
       " 'footnote-ref',\n",
       " 'footnote',\n",
       " 'predecessor-info',\n",
       " 'pred-lastname',\n",
       " 'pred-firstname',\n",
       " 'pred-middlename',\n",
       " 'pred-official-name',\n",
       " 'pred-formal-name',\n",
       " 'pred-title',\n",
       " 'pred-memindex',\n",
       " 'pred-sort-name',\n",
       " 'pred-party',\n",
       " 'pred-vacate-date',\n",
       " 'pred-footnote-ref',\n",
       " 'pred-footnote',\n",
       " 'committees',\n",
       " 'committee-fullname',\n",
       " 'ratio',\n",
       " 'subcommittee-fullname']"
      ]
     },
     "execution_count": 8,
     "metadata": {},
     "output_type": "execute_result"
    }
   ],
   "source": [
    "# Make an empty list to store data\n",
    "children = []\n",
    "\n",
    "# Start a loop to go through all the children tags in house_soup\n",
    "for tag in house_soup.findChildren():\n",
    "    \n",
    "    # If the name of the tag (tag.name) is not already in the children list\n",
    "    if tag.name not in children:\n",
    "        \n",
    "        # Add the name of the tag to the children list\n",
    "        children.append(tag.name)\n",
    "\n",
    "# Look at the list members\n",
    "children"
   ]
  },
  {
   "cell_type": "markdown",
   "metadata": {},
   "source": [
    "We can navigate through the tree. You won't do this in practice, but it's helpful for debugging. In this case, we navigated from the root node (`html`) into the `body` tag, then the `memberdata` tag, then the `members` tag. There are 441 descendents at this level, corresponding to the 435 voting seats and the 6 seats for territories."
   ]
  },
  {
   "cell_type": "code",
   "execution_count": 9,
   "metadata": {},
   "outputs": [
    {
     "data": {
      "text/plain": [
       "441"
      ]
     },
     "execution_count": 9,
     "metadata": {},
     "output_type": "execute_result"
    }
   ],
   "source": [
    "len(house_soup.html.body.memberdata.members)"
   ]
  },
  {
   "cell_type": "markdown",
   "metadata": {},
   "source": [
    "You can also short-cut to the members tag directly rather than navigating down the parent elements."
   ]
  },
  {
   "cell_type": "code",
   "execution_count": 10,
   "metadata": {},
   "outputs": [
    {
     "data": {
      "text/plain": [
       "441"
      ]
     },
     "execution_count": 10,
     "metadata": {},
     "output_type": "execute_result"
    }
   ],
   "source": [
    "len(house_soup.members)"
   ]
  },
  {
   "cell_type": "markdown",
   "metadata": {},
   "source": [
    "The `.contents` method is great for getting a list of the children below the tag as a list. We can use the `[0]` slice to get the first member and their data in the list. Interestingly, the `<committee-assignments>` tags are currently empty since these have not yet been allocated, but will in the next few weeks."
   ]
  },
  {
   "cell_type": "code",
   "execution_count": 11,
   "metadata": {},
   "outputs": [
    {
     "data": {
      "text/plain": [
       "<member><statedistrict>AK00</statedistrict><member-info><namelist>Young, Don</namelist><bioguideid>Y000033</bioguideid><lastname>Young</lastname><firstname>Don</firstname><middlename></middlename><sort-name>YOUNG,DON</sort-name><suffix></suffix><courtesy>Mr.</courtesy><prior-congress>115</prior-congress><official-name>Don Young</official-name><formal-name>Mr. Young</formal-name><party>R</party><caucus>R</caucus><state postal-code=\"AK\"><state-fullname>Alaska</state-fullname></state><district>At Large</district><townname>Fort Yukon</townname><office-building>RHOB</office-building><office-room>2314</office-room><office-zip>20515</office-zip><office-zip-suffix>0200</office-zip-suffix><phone>(202) 225-5765</phone><elected-date date=\"20181106\">November  6, 2018</elected-date><sworn-date date=\"20190103\">January  3, 2019</sworn-date></member-info><committee-assignments><committee comcode=\"II00\" rank=\"2\"></committee><committee comcode=\"PW00\" rank=\"2\"></committee><subcommittee rank=\"1\" subcomcode=\"II10\"></subcommittee><subcommittee rank=\"2\" subcomcode=\"II24\"></subcommittee><subcommittee rank=\"2\" subcomcode=\"PW05\"></subcommittee><subcommittee rank=\"2\" subcomcode=\"PW07\"></subcommittee><subcommittee rank=\"2\" subcomcode=\"PW12\"></subcommittee></committee-assignments></member>"
      ]
     },
     "execution_count": 11,
     "metadata": {},
     "output_type": "execute_result"
    }
   ],
   "source": [
    "house_soup.members.contents[0]"
   ]
  },
  {
   "cell_type": "markdown",
   "metadata": {},
   "source": [
    "You could keep navigating down the tree from here."
   ]
  },
  {
   "cell_type": "code",
   "execution_count": 12,
   "metadata": {},
   "outputs": [
    {
     "data": {
      "text/plain": [
       "<bioguideid>Y000033</bioguideid>"
      ]
     },
     "execution_count": 12,
     "metadata": {},
     "output_type": "execute_result"
    }
   ],
   "source": [
    "house_soup.members.contents[0].bioguideid"
   ]
  },
  {
   "cell_type": "markdown",
   "metadata": {},
   "source": [
    "Note that this navigation method breaks when the tag has a hyphen in it."
   ]
  },
  {
   "cell_type": "code",
   "execution_count": 13,
   "metadata": {},
   "outputs": [
    {
     "ename": "NameError",
     "evalue": "name 'fullname' is not defined",
     "output_type": "error",
     "traceback": [
      "\u001b[0;31m---------------------------------------------------------------------------\u001b[0m",
      "\u001b[0;31mNameError\u001b[0m                                 Traceback (most recent call last)",
      "\u001b[0;32m<ipython-input-13-8767e6d918d6>\u001b[0m in \u001b[0;36m<module>\u001b[0;34m\u001b[0m\n\u001b[0;32m----> 1\u001b[0;31m \u001b[0mhouse_soup\u001b[0m\u001b[0;34m.\u001b[0m\u001b[0mmembers\u001b[0m\u001b[0;34m.\u001b[0m\u001b[0mcontents\u001b[0m\u001b[0;34m[\u001b[0m\u001b[0;36m0\u001b[0m\u001b[0;34m]\u001b[0m\u001b[0;34m.\u001b[0m\u001b[0mstate\u001b[0m\u001b[0;34m-\u001b[0m\u001b[0mfullname\u001b[0m\u001b[0;34m\u001b[0m\u001b[0;34m\u001b[0m\u001b[0m\n\u001b[0m",
      "\u001b[0;31mNameError\u001b[0m: name 'fullname' is not defined"
     ]
    }
   ],
   "source": [
    "house_soup.members.contents[0].state-fullname"
   ]
  },
  {
   "cell_type": "markdown",
   "metadata": {},
   "source": [
    "Instead you can use the `.find()` method to handle these hyphenated cases."
   ]
  },
  {
   "cell_type": "code",
   "execution_count": 14,
   "metadata": {},
   "outputs": [
    {
     "data": {
      "text/plain": [
       "<state-fullname>Alaska</state-fullname>"
      ]
     },
     "execution_count": 14,
     "metadata": {},
     "output_type": "execute_result"
    }
   ],
   "source": [
    "house_soup.members.contents[0].find('state-fullname')"
   ]
  },
  {
   "cell_type": "markdown",
   "metadata": {},
   "source": [
    "We can access the text inside the tag with `.text`"
   ]
  },
  {
   "cell_type": "code",
   "execution_count": 15,
   "metadata": {},
   "outputs": [
    {
     "data": {
      "text/plain": [
       "'Alaska'"
      ]
     },
     "execution_count": 15,
     "metadata": {},
     "output_type": "execute_result"
    }
   ],
   "source": [
    "house_soup.members.contents[0].find('state-fullname').text"
   ]
  },
  {
   "cell_type": "markdown",
   "metadata": {},
   "source": [
    "The `.find_all()` method will be your primary tool when working with structured data. The `<party>` tag codes party membership (D=Democratic, R=Republican) for each representative. "
   ]
  },
  {
   "cell_type": "code",
   "execution_count": 16,
   "metadata": {},
   "outputs": [
    {
     "data": {
      "text/plain": [
       "[<party>R</party>,\n",
       " <party>R</party>,\n",
       " <party>R</party>,\n",
       " <party>R</party>,\n",
       " <party>R</party>,\n",
       " <party>R</party>,\n",
       " <party>R</party>,\n",
       " <party>D</party>,\n",
       " <party>R</party>,\n",
       " <party>R</party>]"
      ]
     },
     "execution_count": 16,
     "metadata": {},
     "output_type": "execute_result"
    }
   ],
   "source": [
    "house_soup.find_all('party')[:10]"
   ]
  },
  {
   "cell_type": "markdown",
   "metadata": {},
   "source": [
    "There [should be](https://en.wikipedia.org/wiki/116th_United_States_Congress#Party_summary) 235 Democrats and 199 Republicans, plus the other non-voting members from territories."
   ]
  },
  {
   "cell_type": "code",
   "execution_count": 17,
   "metadata": {},
   "outputs": [
    {
     "name": "stdout",
     "output_type": "stream",
     "text": [
      "There are 239 Democrats, 199 Republicans, and 3 others in the 116th Congress.\n"
     ]
    }
   ],
   "source": [
    "# Initialize a counter\n",
    "democrats = 0\n",
    "republicans = 0\n",
    "other = 0\n",
    "\n",
    "# Loop through each element of the caucus tags\n",
    "for p in house_soup.find_all('party'):\n",
    "    \n",
    "    # Check if it's D, R, or something else\n",
    "    if p.text == \"D\":\n",
    "        \n",
    "        # Increment the appropriate counter\n",
    "        democrats += 1\n",
    "    \n",
    "    elif p.text == \"R\":\n",
    "        republicans += 1\n",
    "    else:\n",
    "        other += 1\n",
    "        \n",
    "print(\"There are {0} Democrats, {1} Republicans, and {2} others in the 116th Congress.\".format(democrats,republicans,other))\n"
   ]
  },
  {
   "cell_type": "markdown",
   "metadata": {},
   "source": [
    "### JSON\n",
    "\n",
    "JSON is attractive for programmers using JavaScript and Python because it can represent a mix of different data types. We need to make a brief digression into Python's fundamental data stuctures in order to understand the contemporary attraction to JSON. Python has a few fundamental data types for representing collections of information:\n",
    "\n",
    "* **Lists**: This is a basic ordered data structure that can contain strings, ints, and floats.\n",
    "* **Dictionaries**: This is an unordered data structure containing key-value pairs, like a phonebook.\n",
    "\n",
    "Let's look at some examples of lists and dictionaries and then we can try the exercises below."
   ]
  },
  {
   "cell_type": "markdown",
   "metadata": {},
   "source": [
    "### Exercises\n",
    "\n",
    "Below is an example of a [tweet status](https://dev.twitter.com/overview/api/tweets) object that Twitter's [API returns](https://dev.twitter.com/rest/reference/get/statuses/show/id). This `obama_tweet` dictionary corresponds to [this tweet](https://twitter.com/BarackObama/status/831527113211645959). This is a classic example of a JSON object containing a mixture of dictionaries, lists, lists of dictionaries, dictionaries of lists, *etc*."
   ]
  },
  {
   "cell_type": "code",
   "execution_count": 18,
   "metadata": {},
   "outputs": [],
   "source": [
    "obama_tweet = {'created_at': 'Tue Feb 14 15:34:47 +0000 2017',\n",
    "               'favorite_count': 1023379,\n",
    "               'hashtags': [],\n",
    "               'id': 831527113211645959,\n",
    "               'id_str': '831527113211645959',\n",
    "               'lang': 'en',\n",
    "               'media': [{'display_url': 'pic.twitter.com/O0UhJWoqGN',\n",
    "                          'expanded_url': 'https://twitter.com/BarackObama/status/831527113211645959/photo/1',\n",
    "                          'id': 831526916398149634,\n",
    "                          'media_url': 'http://pbs.twimg.com/media/C4otUykWcAIbSy1.jpg',\n",
    "                          'media_url_https': 'https://pbs.twimg.com/media/C4otUykWcAIbSy1.jpg',\n",
    "                          'sizes': {'large': {'h': 800, 'resize': 'fit', 'w': 1200},\n",
    "                                    'medium': {'h': 800, 'resize': 'fit', 'w': 1200},\n",
    "                                    'small': {'h': 453, 'resize': 'fit', 'w': 680},\n",
    "                                    'thumb': {'h': 150, 'resize': 'crop', 'w': 150}},\n",
    "                          'type': 'photo',\n",
    "                          'url': 'https://t.co/O0UhJWoqGN'}],\n",
    "               'retweet_count': 252266,\n",
    "               'source': '<a href=\"http://twitter.com\" rel=\"nofollow\">Twitter Web Client</a>',\n",
    "               'text': 'Happy Valentine’s Day, @michelleobama! Almost 28 years with you, but it always feels new. https://t.co/O0UhJWoqGN',\n",
    "               'urls': [],\n",
    "               'user': {'created_at': 'Mon Mar 05 22:08:25 +0000 2007',\n",
    "                        'description': 'Dad, husband, President, citizen.',\n",
    "                        'favourites_count': 10,\n",
    "                        'followers_count': 84814791,\n",
    "                        'following': True,\n",
    "                        'friends_count': 631357,\n",
    "                        'id': 813286,\n",
    "                        'lang': 'en',\n",
    "                        'listed_count': 221906,\n",
    "                        'location': 'Washington, DC',\n",
    "                        'name': 'Barack Obama',\n",
    "                        'profile_background_color': '77B0DC',\n",
    "                        'profile_background_image_url': 'http://pbs.twimg.com/profile_background_images/451819093436268544/kLbRvwBg.png',\n",
    "                        'profile_banner_url': 'https://pbs.twimg.com/profile_banners/813286/1484945688',\n",
    "                        'profile_image_url': 'http://pbs.twimg.com/profile_images/822547732376207360/5g0FC8XX_normal.jpg',\n",
    "                        'profile_link_color': '2574AD',\n",
    "                        'profile_sidebar_fill_color': 'C2E0F6',\n",
    "                        'profile_text_color': '333333',\n",
    "                        'screen_name': 'BarackObama',\n",
    "                        'statuses_count': 15436,\n",
    "                        'time_zone': 'Eastern Time (US & Canada)',\n",
    "                        'url': 'https://t.co/93Y27HEnnX',\n",
    "                        'utc_offset': -18000,\n",
    "                        'verified': True},\n",
    "               'user_mentions': [{'id': 409486555,\n",
    "                                  'name': 'Michelle Obama',\n",
    "                                  'screen_name': 'MichelleObama'}]}"
   ]
  },
  {
   "cell_type": "markdown",
   "metadata": {},
   "source": [
    "1. What are the top-most keys in the `obama_tweet` object?\n",
    "2. When was this tweet sent?\n",
    "3. Does this tweet mention anyone?\n",
    "4. How many retweets did this tweet receive (at the time I collected it)?\n",
    "5. How many followers does the \"user\" who wrote this tweet have?\n",
    "6. What's the \"media_url\" for the image in this tweet?"
   ]
  }
 ],
 "metadata": {
  "kernelspec": {
   "display_name": "Python 3",
   "language": "python",
   "name": "python3"
  },
  "language_info": {
   "codemirror_mode": {
    "name": "ipython",
    "version": 3
   },
   "file_extension": ".py",
   "mimetype": "text/x-python",
   "name": "python",
   "nbconvert_exporter": "python",
   "pygments_lexer": "ipython3",
   "version": "3.7.1"
  }
 },
 "nbformat": 4,
 "nbformat_minor": 2
}
